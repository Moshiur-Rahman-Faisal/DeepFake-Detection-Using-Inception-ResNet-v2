{
 "cells": [
  {
   "cell_type": "code",
   "execution_count": 1,
   "id": "93a41109",
   "metadata": {},
   "outputs": [],
   "source": [
    "import pandas as pd\n",
    "import numpy as np\n"
   ]
  },
  {
   "cell_type": "code",
   "execution_count": 2,
   "id": "39978311",
   "metadata": {},
   "outputs": [],
   "source": [
    "df=pd.read_csv(\"Metadata.csv\")"
   ]
  },
  {
   "cell_type": "code",
   "execution_count": 3,
   "id": "b3fa506c",
   "metadata": {},
   "outputs": [
    {
     "data": {
      "text/html": [
       "<div>\n",
       "<style scoped>\n",
       "    .dataframe tbody tr th:only-of-type {\n",
       "        vertical-align: middle;\n",
       "    }\n",
       "\n",
       "    .dataframe tbody tr th {\n",
       "        vertical-align: top;\n",
       "    }\n",
       "\n",
       "    .dataframe thead th {\n",
       "        text-align: right;\n",
       "    }\n",
       "</style>\n",
       "<table border=\"1\" class=\"dataframe\">\n",
       "  <thead>\n",
       "    <tr style=\"text-align: right;\">\n",
       "      <th></th>\n",
       "      <th>Global</th>\n",
       "      <th>File</th>\n",
       "      <th>Label</th>\n",
       "    </tr>\n",
       "  </thead>\n",
       "  <tbody>\n",
       "    <tr>\n",
       "      <th>0</th>\n",
       "      <td>ugzpmmyogi.mp4,FAKE</td>\n",
       "      <td>ugzpmmyogi.mp4</td>\n",
       "      <td>FAKE</td>\n",
       "    </tr>\n",
       "    <tr>\n",
       "      <th>1</th>\n",
       "      <td>ehrtdalgon.mp4,FAKE</td>\n",
       "      <td>ehrtdalgon.mp4</td>\n",
       "      <td>FAKE</td>\n",
       "    </tr>\n",
       "    <tr>\n",
       "      <th>2</th>\n",
       "      <td>dedaztepmu.mp4,FAKE</td>\n",
       "      <td>dedaztepmu.mp4</td>\n",
       "      <td>FAKE</td>\n",
       "    </tr>\n",
       "    <tr>\n",
       "      <th>3</th>\n",
       "      <td>bcbqxhziqz.mp4,REAL</td>\n",
       "      <td>bcbqxhziqz.mp4</td>\n",
       "      <td>REAL</td>\n",
       "    </tr>\n",
       "    <tr>\n",
       "      <th>4</th>\n",
       "      <td>mjjfachjxw.mp4,FAKE</td>\n",
       "      <td>mjjfachjxw.mp4</td>\n",
       "      <td>FAKE</td>\n",
       "    </tr>\n",
       "  </tbody>\n",
       "</table>\n",
       "</div>"
      ],
      "text/plain": [
       "                Global            File Label\n",
       "0  ugzpmmyogi.mp4,FAKE  ugzpmmyogi.mp4  FAKE\n",
       "1  ehrtdalgon.mp4,FAKE  ehrtdalgon.mp4  FAKE\n",
       "2  dedaztepmu.mp4,FAKE  dedaztepmu.mp4  FAKE\n",
       "3  bcbqxhziqz.mp4,REAL  bcbqxhziqz.mp4  REAL\n",
       "4  mjjfachjxw.mp4,FAKE  mjjfachjxw.mp4  FAKE"
      ]
     },
     "execution_count": 3,
     "metadata": {},
     "output_type": "execute_result"
    }
   ],
   "source": [
    "df.head()"
   ]
  },
  {
   "cell_type": "code",
   "execution_count": 5,
   "id": "9665832b",
   "metadata": {},
   "outputs": [
    {
     "data": {
      "text/html": [
       "<div>\n",
       "<style scoped>\n",
       "    .dataframe tbody tr th:only-of-type {\n",
       "        vertical-align: middle;\n",
       "    }\n",
       "\n",
       "    .dataframe tbody tr th {\n",
       "        vertical-align: top;\n",
       "    }\n",
       "\n",
       "    .dataframe thead tr th {\n",
       "        text-align: left;\n",
       "    }\n",
       "\n",
       "    .dataframe thead tr:last-of-type th {\n",
       "        text-align: right;\n",
       "    }\n",
       "</style>\n",
       "<table border=\"1\" class=\"dataframe\">\n",
       "  <thead>\n",
       "    <tr>\n",
       "      <th></th>\n",
       "      <th colspan=\"4\" halign=\"left\">Global</th>\n",
       "      <th colspan=\"4\" halign=\"left\">File</th>\n",
       "    </tr>\n",
       "    <tr>\n",
       "      <th></th>\n",
       "      <th>count</th>\n",
       "      <th>unique</th>\n",
       "      <th>top</th>\n",
       "      <th>freq</th>\n",
       "      <th>count</th>\n",
       "      <th>unique</th>\n",
       "      <th>top</th>\n",
       "      <th>freq</th>\n",
       "    </tr>\n",
       "    <tr>\n",
       "      <th>Label</th>\n",
       "      <th></th>\n",
       "      <th></th>\n",
       "      <th></th>\n",
       "      <th></th>\n",
       "      <th></th>\n",
       "      <th></th>\n",
       "      <th></th>\n",
       "      <th></th>\n",
       "    </tr>\n",
       "  </thead>\n",
       "  <tbody>\n",
       "    <tr>\n",
       "      <th>FAKE</th>\n",
       "      <td>13016</td>\n",
       "      <td>13016</td>\n",
       "      <td>ugzpmmyogi.mp4,FAKE</td>\n",
       "      <td>1</td>\n",
       "      <td>13016</td>\n",
       "      <td>13016</td>\n",
       "      <td>ugzpmmyogi.mp4</td>\n",
       "      <td>1</td>\n",
       "    </tr>\n",
       "    <tr>\n",
       "      <th>REAL</th>\n",
       "      <td>1941</td>\n",
       "      <td>1941</td>\n",
       "      <td>bcbqxhziqz.mp4,REAL</td>\n",
       "      <td>1</td>\n",
       "      <td>1941</td>\n",
       "      <td>1941</td>\n",
       "      <td>bcbqxhziqz.mp4</td>\n",
       "      <td>1</td>\n",
       "    </tr>\n",
       "  </tbody>\n",
       "</table>\n",
       "</div>"
      ],
      "text/plain": [
       "      Global                                    File                         \\\n",
       "       count unique                  top freq  count unique             top   \n",
       "Label                                                                         \n",
       "FAKE   13016  13016  ugzpmmyogi.mp4,FAKE    1  13016  13016  ugzpmmyogi.mp4   \n",
       "REAL    1941   1941  bcbqxhziqz.mp4,REAL    1   1941   1941  bcbqxhziqz.mp4   \n",
       "\n",
       "            \n",
       "      freq  \n",
       "Label       \n",
       "FAKE     1  \n",
       "REAL     1  "
      ]
     },
     "execution_count": 5,
     "metadata": {},
     "output_type": "execute_result"
    }
   ],
   "source": [
    "df.groupby(\"Label\").describe()"
   ]
  },
  {
   "cell_type": "code",
   "execution_count": null,
   "id": "8d8bf391",
   "metadata": {},
   "outputs": [],
   "source": []
  }
 ],
 "metadata": {
  "kernelspec": {
   "display_name": "Python 3 (ipykernel)",
   "language": "python",
   "name": "python3"
  },
  "language_info": {
   "codemirror_mode": {
    "name": "ipython",
    "version": 3
   },
   "file_extension": ".py",
   "mimetype": "text/x-python",
   "name": "python",
   "nbconvert_exporter": "python",
   "pygments_lexer": "ipython3",
   "version": "3.8.12"
  }
 },
 "nbformat": 4,
 "nbformat_minor": 5
}
