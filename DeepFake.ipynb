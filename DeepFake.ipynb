{
 "cells": [
  {
   "cell_type": "code",
   "execution_count": 9,
   "id": "da422120",
   "metadata": {},
   "outputs": [
    {
     "name": "stdout",
     "output_type": "stream",
     "text": [
      "frames [299, 300, 300, 300, 300, 300, 300, 300, 299, 300, 300, 299, 300, 300, 299, 300, 299, 300, 300, 299, 300, 300, 299, 300, 300, 299, 300, 300, 299, 300, 300, 300, 300, 300, 299, 300, 299, 299, 300, 300, 299, 300, 299, 300, 300, 300, 300, 300, 299, 300, 300, 300, 299, 300, 300, 300, 300, 299, 299, 299, 300, 300, 300, 300, 300, 299, 300, 300, 299, 300, 300, 300, 300, 299, 300, 300, 300, 300, 300, 300, 300, 299, 299, 300, 300, 299, 300, 299, 299, 300, 299, 300, 299, 300, 299, 300, 300, 299, 300, 300, 300, 300, 300, 300, 300, 300, 299, 299, 300, 300, 300, 299, 300, 299, 300, 300, 300, 300, 300, 299, 300, 300, 300, 300, 299, 300, 300, 300, 300, 300, 299, 299, 300, 300, 300, 300, 300, 299, 299, 300, 300, 300, 300, 300, 300, 299, 300, 300, 300, 300, 300, 300, 300, 300, 300, 300, 300, 300, 300, 300, 300, 300, 300, 299, 300, 300, 300, 299, 300, 299, 299, 300, 300, 300, 300, 300, 300, 300, 299, 300, 300, 300, 300, 299, 300, 299, 300, 299, 300, 300, 300, 300, 300, 300, 299, 300, 300, 300, 300, 300, 299, 300, 300, 300, 299, 300, 300, 300, 300, 299, 300, 300, 300, 300, 300, 300, 300, 300, 300, 300, 300, 299, 300, 300, 300, 300, 299, 299, 299, 300, 299, 299, 300, 299, 300, 300, 300, 300, 300, 299, 300, 300, 300, 300, 299, 300, 300, 300, 300, 300, 300, 300, 300, 299, 299, 300, 300, 300, 300, 300, 299, 299, 299, 299, 300, 299, 300, 300, 300, 300, 300, 300, 300, 300, 300, 300, 300, 300, 300, 300, 299, 300, 300, 299, 300, 300, 299, 299, 300, 300, 300, 300, 300, 300, 300, 300, 300, 300, 300, 299, 300, 300, 300, 300, 300, 300, 300, 300, 300, 299, 300, 300, 300, 300, 300, 300, 300, 300, 299, 300, 300, 300, 300, 299, 300, 299, 299, 300, 300, 300, 300, 300, 299, 300, 300, 299, 300, 300, 300, 300, 300, 300, 300, 300, 300, 300, 300, 299, 300, 300, 300, 300, 300, 300, 300, 300, 300, 299, 300, 300, 300, 300, 299, 300, 299, 300, 300, 299, 299, 300, 300, 300, 300, 300, 299, 300, 300, 300, 300, 300, 299, 300, 300, 300, 300, 300, 300, 300, 300, 300, 299, 300, 300, 300, 299, 300, 300, 300, 300, 300]\n",
      "Total number of videos:  400\n",
      "Average frame per video: 299.77\n"
     ]
    }
   ],
   "source": [
    "#To get the average frame count \n",
    "import json\n",
    "import glob\n",
    "import numpy as np\n",
    "import cv2\n",
    "import copy\n",
    "video_files =  glob.glob('E:/Deep Fake/deepfake-detection-challenge/test_videos/*.mp4')\n",
    "frame_count = []\n",
    "for video_file in video_files:\n",
    "  cap = cv2.VideoCapture(video_file)\n",
    "  if(int(cap.get(cv2.CAP_PROP_FRAME_COUNT))<150):\n",
    "    video_files.remove(video_file)\n",
    "    continue\n",
    "  frame_count.append(int(cap.get(cv2.CAP_PROP_FRAME_COUNT)))\n",
    "print(\"frames\" , frame_count)\n",
    "print(\"Total number of videos: \" , len(frame_count))\n",
    "print('Average frame per video:',np.mean(frame_count))"
   ]
  },
  {
   "cell_type": "code",
   "execution_count": 6,
   "id": "a5115271",
   "metadata": {},
   "outputs": [],
   "source": []
  },
  {
   "cell_type": "code",
   "execution_count": null,
   "id": "a7c0a3c7",
   "metadata": {},
   "outputs": [],
   "source": []
  }
 ],
 "metadata": {
  "kernelspec": {
   "display_name": "Python 3 (ipykernel)",
   "language": "python",
   "name": "python3"
  },
  "language_info": {
   "codemirror_mode": {
    "name": "ipython",
    "version": 3
   },
   "file_extension": ".py",
   "mimetype": "text/x-python",
   "name": "python",
   "nbconvert_exporter": "python",
   "pygments_lexer": "ipython3",
   "version": "3.8.12"
  }
 },
 "nbformat": 4,
 "nbformat_minor": 5
}
